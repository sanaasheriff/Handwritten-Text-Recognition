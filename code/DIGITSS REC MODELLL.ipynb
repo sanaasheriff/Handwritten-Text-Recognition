{
 "cells": [
  {
   "cell_type": "code",
   "execution_count": 1,
   "id": "cc88b460",
   "metadata": {},
   "outputs": [],
   "source": [
    "import tensorflow as tf\n",
    "import matplotlib.pyplot as plt"
   ]
  },
  {
   "cell_type": "code",
   "execution_count": 2,
   "id": "cb7308b4",
   "metadata": {},
   "outputs": [],
   "source": [
    "# load the model from the file system\n",
    "model = tf.keras.models.load_model('digitss_model')"
   ]
  },
  {
   "cell_type": "code",
   "execution_count": 3,
   "id": "d308f7a0",
   "metadata": {},
   "outputs": [
    {
     "name": "stdout",
     "output_type": "stream",
     "text": [
      "Prediction: 2\n",
      "<class 'numpy.int64'>\n",
      "Prediction: 2\n",
      "<class 'numpy.int64'>\n"
     ]
    }
   ],
   "source": [
    "import joblib\n",
    "import cv2\n",
    "import numpy as np\n",
    "\n",
    "import time\n",
    "import pyscreenshot as ImageGrab\n",
    " \n",
    "model=tf.keras.models.load_model('digitss_model')\n",
    "images_folder=\"images/\"\n",
    " \n",
    "while True:\n",
    "   img=ImageGrab.grab(bbox=(60,170,400,500))\n",
    "   \n",
    "   img.save(images_folder+\"img.png\")\n",
    "   im = cv2.imread(images_folder+\"img.png\")\n",
    "   im_gray = cv2.cvtColor(im,cv2.COLOR_BGR2GRAY)\n",
    "   im_gray  =cv2.GaussianBlur(im_gray, (15,15), 0)\n",
    "   \n",
    "   #Threshold the image\n",
    "   ret, im_th = cv2.threshold(im_gray,100, 255, cv2.THRESH_BINARY)\n",
    "   roi = cv2.resize(im_th, (28,28), interpolation  =cv2.INTER_AREA)\n",
    "   IMG_SIZE=28\n",
    "   newimg = tf.keras.utils.normalize(roi, axis = 1)\n",
    "   newimg = np.array(newimg).reshape(-1, IMG_SIZE, IMG_SIZE,1)\n",
    "   rows,cols=roi.shape\n",
    "   \n",
    "   X = []\n",
    "   \n",
    "   ## Add pixel one by one into data array\n",
    "   for i in range(rows):\n",
    "       for j in range(cols):\n",
    "           k = roi[i,j]\n",
    "           if k>100:\n",
    "               k=1\n",
    "           else:\n",
    "               k=0\n",
    "           X.append(k)\n",
    "           \n",
    "   predictions  =model.predict(newimg)\n",
    "   status = np.argmax(predictions)\n",
    "   print(\"Prediction:\",status)\n",
    "   print(type(status))\n",
    "   cv2.putText(im, \"Prediction is: \"+status.astype(str), (20,20), 0, 0.8,(0,255,0),2,cv2.LINE_AA)\n",
    "   \n",
    "   cv2.startWindowThread()\n",
    "   cv2.namedWindow(\"Result\")\n",
    "   cv2.imshow(\"Result\",im)\n",
    "   cv2.waitKey(10000)\n",
    "   if cv2.waitKey(1)==13: #27 is the ascii value of esc, 13 is the ascii value of enter\n",
    "       break\n",
    "cv2.destroyAllWindows()"
   ]
  },
  {
   "cell_type": "code",
   "execution_count": null,
   "id": "18009afc",
   "metadata": {},
   "outputs": [],
   "source": []
  }
 ],
 "metadata": {
  "kernelspec": {
   "display_name": "Python 3",
   "language": "python",
   "name": "python3"
  },
  "language_info": {
   "codemirror_mode": {
    "name": "ipython",
    "version": 3
   },
   "file_extension": ".py",
   "mimetype": "text/x-python",
   "name": "python",
   "nbconvert_exporter": "python",
   "pygments_lexer": "ipython3",
   "version": "3.8.8"
  }
 },
 "nbformat": 4,
 "nbformat_minor": 5
}
